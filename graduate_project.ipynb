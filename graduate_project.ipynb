{
 "cells": [
  {
   "cell_type": "markdown",
   "metadata": {},
   "source": [
    "#### Name: Hui Gong\n",
    "#### Instructor: Dr.Barbosa\n",
    "#### CSCI 6350-001\n",
    "#### Project: Graduate Project\n",
    "#### Due: April 14,2020 Monday\n",
    "#### Description: Semantic Similarity of Question Pairs"
   ]
  },
  {
   "cell_type": "code",
   "execution_count": 162,
   "metadata": {},
   "outputs": [],
   "source": [
    "import nltk\n",
    "import gensim\n",
    "import math\n",
    "import json\n",
    "import random\n",
    "import numpy as np\n",
    "from sklearn.linear_model import LogisticRegression\n",
    "from sklearn.metrics import confusion_matrix\n",
    "from sklearn.metrics import accuracy_score\n",
    "from sklearn.metrics import classification_report\n",
    "from nltk.tokenize import sent_tokenize\n",
    "from nltk.tokenize import word_tokenize\n",
    "from nltk.corpus import opinion_lexicon\n",
    "from sklearn.utils import resample\n",
    "from nltk.util import ngrams\n",
    "from nltk.stem import PorterStemmer \n",
    "from nltk.corpus import wordnet as wn\n",
    "from nltk.corpus import stopwords\n",
    "from gensim.models import Word2Vec\n",
    "from nltk.corpus import brown\n",
    "from nltk import pos_tag\n",
    "from stanfordcorenlp import StanfordCoreNLP\n",
    "from sklearn.linear_model import LogisticRegression\n",
    "from sklearn.feature_extraction.text import TfidfVectorizer\n",
    "from scipy.linalg import norm\n",
    "from time import time\n",
    "from nltk.data import find\n",
    "import pandas as pd\n",
    "import matplotlib.pyplot as plt\n",
    "from sklearn.metrics import precision_recall_fscore_support as score\n",
    "import os\n",
    "import warnings"
   ]
  },
  {
   "cell_type": "code",
   "execution_count": 2,
   "metadata": {},
   "outputs": [],
   "source": [
    "word2vec_sample = str(find('models/word2vec_sample/pruned.word2vec.txt'))\n",
    "model = gensim.models.KeyedVectors.load_word2vec_format(word2vec_sample, binary=False) # load in word2vec format\n",
    "vocab = set(model.vocab)\n"
   ]
  },
  {
   "cell_type": "markdown",
   "metadata": {},
   "source": [
    "### Step 1: data processing"
   ]
  },
  {
   "cell_type": "code",
   "execution_count": 45,
   "metadata": {},
   "outputs": [],
   "source": [
    "def dataPreprocess(q1, q2):\n",
    "    q1,q2 = tokenize(q1, q2)\n",
    "    #q1, q2 = removeStopWords(q1,q2)\n",
    "    q1, q2 = stem(q1,q2)\n",
    "    \n",
    "    return q1, q2\n",
    "\n",
    "# input q1,q2: string \n",
    "# return list of words for each question\n",
    "def tokenize(q1, q2):\n",
    "    return word_tokenize(q1.lower()), word_tokenize(q2.lower())\n",
    "\n",
    "# input list output list\n",
    "stop_words = set(stopwords.words(\"english\"))\n",
    "def removeStopWords(q1, q2):\n",
    "    w1 = []\n",
    "    w2 = []    \n",
    "    for w in q1:\n",
    "        if w not in stop_words:\n",
    "            w1.append(w)\n",
    "    for w in q2:\n",
    "        if w not in stop_words:\n",
    "            w2.append(w)\n",
    "    return w1, w2\n",
    "\n",
    "#input list output list\n",
    "def stem(q1,q2):\n",
    "    ps = PorterStemmer()\n",
    "    stem_q1 = []\n",
    "    stem_q2 = []\n",
    "    for w in q1:\n",
    "        stem_q1.append(ps.stem(w))\n",
    "    for w in q2:\n",
    "        stem_q2.append(ps.stem(w))\n",
    "    return stem_q1, stem_q2\n",
    "\n",
    "# input q1,q2: list of words\n",
    "# return list of POS for each list\n",
    "def posTag(q1, q2):\n",
    "    return nltk.pos_tag(q1), nltk.pos_tag(q2)"
   ]
  },
  {
   "cell_type": "code",
   "execution_count": null,
   "metadata": {},
   "outputs": [],
   "source": []
  },
  {
   "cell_type": "markdown",
   "metadata": {},
   "source": [
    "### Step 2: Feature Extract\n"
   ]
  },
  {
   "cell_type": "code",
   "execution_count": 163,
   "metadata": {},
   "outputs": [],
   "source": [
    "\n",
    "# feature 1 TF-IDF\n",
    "def tfidf_features(s1, s2):\n",
    "    cv = TfidfVectorizer(tokenizer=lambda s: s.split())\n",
    "    corpus = [s1, s2]\n",
    "    vectors = cv.fit_transform(corpus).toarray()\n",
    "    return vectors\n",
    "\n",
    "# feature 2 word2vector, calculate the average word vector for a given question\n",
    "def word2vector_features(sentence, model, num_features, vocab):\n",
    "    #words = sentence.split()\n",
    "    words = word_tokenize(sentence)\n",
    "    feature_vec = np.zeros((num_features, ), dtype='float32')\n",
    "    n_words = 0\n",
    "    for word in words:\n",
    "        if word in vocab:\n",
    "            n_words += 1\n",
    "            feature_vec = np.add(feature_vec, model[word])\n",
    "    if (n_words > 0):\n",
    "        feature_vec = np.divide(feature_vec, n_words)\n",
    "    return feature_vec\n",
    "\n",
    "# Feature 3\n",
    "# check if two questions have the same interrogative words\n",
    "# input string\n",
    "# return 0 if the same, otherwise return 1\n",
    "def interrogative_features(q1, q2):\n",
    "    interrogative = [\"who\",\"whose\",\"when\",\"where\",\"what\",\"which\",'how']\n",
    "    q1,q2 = dataPreprocess(q1,q2)\n",
    "    q1_interrogative = []\n",
    "    q2_interrogative = []\n",
    "    #q1_tag, q2_tag = nltk.pos_tag(q1),nltk.pos_tag(q2)\n",
    "\n",
    "    for i in interrogative:\n",
    "        if i in q1:\n",
    "            q1_interrogative.append(1)\n",
    "        else:\n",
    "            q1_interrogative.append(0)\n",
    "        if i in q2:\n",
    "            q2_interrogative.append(1)\n",
    "        else:\n",
    "            q2_interrogative.append(0)\n",
    "            \n",
    "    return q1_interrogative, q2_interrogative\n"
   ]
  },
  {
   "cell_type": "markdown",
   "metadata": {},
   "source": [
    "### Step 3: Model\n"
   ]
  },
  {
   "cell_type": "code",
   "execution_count": null,
   "metadata": {},
   "outputs": [],
   "source": [
    "def cosine_similarity(res1, res2):\n",
    "    return np.dot(res1, res2) / (norm(res1) * norm(res2))\n",
    "\n",
    "\n",
    "# word move distance\n",
    "# the similiar is the distance is smaller\n",
    "def feature_wmdistance(s1,s2):\n",
    "    #s1, s2 = lowercase(s1, s2)\n",
    "    s1, s2 = tokenize(s1, s2)\n",
    "    s1,s2 = stem(s1, s2)\n",
    "    res = model.wmdistance(s1,s2)\n",
    "    if res == float(\"inf\"):\n",
    "        return 2\n",
    "        \n",
    "    return res"
   ]
  },
  {
   "cell_type": "markdown",
   "metadata": {},
   "source": [
    "### Read in the raw data"
   ]
  },
  {
   "cell_type": "code",
   "execution_count": 187,
   "metadata": {},
   "outputs": [
    {
     "name": "stdout",
     "output_type": "stream",
     "text": [
      "Size of dataset:  100000\n"
     ]
    }
   ],
   "source": [
    "df = pd.read_csv(\"train_100k.csv\")\n",
    "# random shuffle\n",
    "# df = df.sample(frac=1)\n",
    "row = df.shape[0]  \n",
    "print(\"Size of dataset: \", row)\n",
    "size_1 = math.floor(row*0.8)   # train size\n",
    "\n",
    "df_q1 = df.loc[:size_1,'question1']\n",
    "df_q2 = df.loc[:size_1,'question2']\n",
    "df_is_duplicate = df.loc[:size_1,'is_duplicate']\n",
    "\n",
    "df_q1_test = df.loc[size_1+1:,'question1']\n",
    "df_q2_test = df.loc[size_1+1:,'question2']\n",
    "df_is_duplicate_test = df.loc[size_1+1:,'is_duplicate']"
   ]
  },
  {
   "cell_type": "markdown",
   "metadata": {},
   "source": [
    "### Train the model (time: 570s)"
   ]
  },
  {
   "cell_type": "code",
   "execution_count": 189,
   "metadata": {},
   "outputs": [
    {
     "data": {
      "image/png": "[encoded data removed]",
      "text/plain": [
       "<Figure size 432x288 with 1 Axes>"
      ]
     },
     "metadata": {
      "needs_background": "light"
     },
     "output_type": "display_data"
    },
    {
     "name": "stdout",
     "output_type": "stream",
     "text": [
      "    threshold  Accuracy  Precision    Recall  F1-score\n",
      "0        0.00  0.427550   0.697112  0.543837  0.611009\n",
      "1        0.05  0.454575   0.702915  0.565372  0.626686\n",
      "2        0.10  0.524825   0.711015  0.619886  0.662331\n",
      "3        0.15  0.584900   0.705843  0.661289  0.682840\n",
      "4        0.20  0.630537   0.697492  0.686369  0.691886\n",
      "5        0.25  0.661837   0.688839  0.696172  0.692486\n",
      "6        0.30  0.673650   0.673475  0.685532  0.679450\n",
      "7        0.35  0.672737   0.656390  0.663007  0.659682\n",
      "8        0.40  0.668525   0.643891  0.641403  0.642645\n",
      "9        0.45  0.661550   0.631651  0.618383  0.624946\n",
      "10       0.50  0.653062   0.619209  0.596658  0.607724\n",
      "11       0.55  0.644413   0.606157  0.573611  0.589435\n",
      "12       0.60  0.636425   0.592599  0.554800  0.573077\n",
      "13       0.65  0.630050   0.578958  0.538119  0.557792\n",
      "14       0.70  0.626138   0.568042  0.528110  0.547349\n",
      "15       0.75  0.623150   0.555926  0.518729  0.536684\n",
      "16       0.80  0.621000   0.539456  0.509607  0.524107\n",
      "17       0.85  0.622900   0.533538  0.505021  0.518888\n",
      "18       0.90  0.626938   0.555255  0.503303  0.528004\n",
      "19       0.95  0.628862   0.721528  0.502104  0.592142\n",
      "20       1.00  0.627575   0.736847  0.500165  0.595863\n"
     ]
    },
    {
     "data": {
      "image/png": "[encoded data removed]",
      "text/plain": [
       "<Figure size 432x288 with 1 Axes>"
      ]
     },
     "metadata": {
      "needs_background": "light"
     },
     "output_type": "display_data"
    },
    {
     "name": "stdout",
     "output_type": "stream",
     "text": [
      "    threshold  Accuracy  Precision    Recall  F1-score\n",
      "0        0.00  0.372800   0.617346  0.500182  0.552622\n",
      "1        0.05  0.372812   0.619647  0.500192  0.553548\n",
      "2        0.10  0.373013   0.642873  0.500351  0.562728\n",
      "3        0.15  0.373450   0.661741  0.500700  0.570065\n",
      "4        0.20  0.374250   0.672789  0.501337  0.574545\n",
      "5        0.25  0.375275   0.673784  0.502141  0.575435\n",
      "6        0.30  0.377050   0.677769  0.503548  0.577811\n",
      "7        0.35  0.379312   0.677770  0.505324  0.578979\n",
      "8        0.40  0.383100   0.677469  0.508287  0.580809\n",
      "9        0.45  0.389275   0.675953  0.513078  0.583361\n",
      "10       0.50  0.399625   0.675564  0.521087  0.588355\n",
      "11       0.55  0.415538   0.675116  0.533283  0.595876\n",
      "12       0.60  0.439412   0.671564  0.551027  0.605354\n",
      "13       0.65  0.473037   0.666541  0.574925  0.617352\n",
      "14       0.70  0.516338   0.659448  0.603158  0.630048\n",
      "15       0.75  0.563738   0.651596  0.629410  0.640311\n",
      "16       0.80  0.610375   0.641591  0.645355  0.643468\n",
      "17       0.85  0.642062   0.629670  0.637023  0.633325\n",
      "18       0.90  0.644175   0.608978  0.593277  0.601025\n",
      "19       0.95  0.622663   0.562440  0.529949  0.545711\n",
      "20       1.00  0.620000   0.462394  0.497073  0.479107\n"
     ]
    },
    {
     "data": {
      "image/png": "[encoded data removed]",
      "text/plain": [
       "<Figure size 432x288 with 1 Axes>"
      ]
     },
     "metadata": {
      "needs_background": "light"
     },
     "output_type": "display_data"
    },
    {
     "name": "stdout",
     "output_type": "stream",
     "text": [
      "    threshold  Accuracy  Precision    Recall  F1-score\n",
      "0        0.00  0.372713   0.686301  0.500139  0.578615\n",
      "1        0.05  0.372713   0.686301  0.500139  0.578615\n",
      "2        0.10  0.372713   0.686301  0.500139  0.578615\n",
      "3        0.15  0.373237   0.686399  0.500558  0.578930\n",
      "4        0.20  0.392562   0.690075  0.515957  0.590447\n",
      "5        0.25  0.451275   0.701786  0.562709  0.624599\n",
      "6        0.30  0.530450   0.709494  0.623769  0.663875\n",
      "7        0.35  0.602062   0.703466  0.671741  0.687238\n",
      "8        0.40  0.650550   0.691951  0.693578  0.692763\n",
      "9        0.45  0.668975   0.673436  0.685283  0.679308\n",
      "10       0.50  0.670400   0.654423  0.661233  0.657810\n",
      "11       0.55  0.662637   0.635468  0.629453  0.632446\n",
      "12       0.60  0.653200   0.619801  0.600176  0.609830\n",
      "13       0.65  0.643537   0.604868  0.573984  0.589022\n",
      "14       0.70  0.634700   0.589302  0.550965  0.569489\n",
      "15       0.75  0.628413   0.574724  0.533951  0.553588\n",
      "16       0.80  0.623600   0.557906  0.519940  0.538255\n",
      "17       0.85  0.622437   0.543654  0.509839  0.526204\n",
      "18       0.90  0.625363   0.546240  0.505374  0.525013\n",
      "19       0.95  0.629062   0.677833  0.502672  0.577258\n",
      "20       1.00  0.627463   0.563733  0.500007  0.529961\n"
     ]
    },
    {
     "data": {
      "image/png": "[encoded data removed]",
      "text/plain": [
       "<Figure size 432x288 with 1 Axes>"
      ]
     },
     "metadata": {
      "needs_background": "light"
     },
     "output_type": "display_data"
    },
    {
     "name": "stdout",
     "output_type": "stream",
     "text": [
      "    threshold  Accuracy  Precision    Recall  F1-score\n",
      "0        0.00  0.372713   0.686301  0.500139  0.578615\n",
      "1        0.05  0.372713   0.686301  0.500139  0.578615\n",
      "2        0.10  0.376088   0.686932  0.502829  0.580637\n",
      "3        0.15  0.419325   0.689477  0.536976  0.603746\n",
      "4        0.20  0.487162   0.666268  0.584844  0.622906\n",
      "5        0.25  0.538663   0.649805  0.614316  0.631562\n",
      "6        0.30  0.567650   0.636960  0.624798  0.630820\n",
      "7        0.35  0.583438   0.628312  0.626807  0.627559\n",
      "8        0.40  0.590825   0.620630  0.624003  0.622312\n",
      "9        0.45  0.593725   0.613472  0.619048  0.616247\n",
      "10       0.50  0.595463   0.607269  0.613869  0.610551\n",
      "11       0.55  0.601662   0.605581  0.612818  0.609178\n",
      "12       0.60  0.610625   0.605800  0.612980  0.609369\n",
      "13       0.65  0.638663   0.622022  0.627450  0.624724\n",
      "14       0.70  0.652675   0.624978  0.620492  0.622727\n",
      "15       0.75  0.646188   0.610096  0.589060  0.599393\n",
      "16       0.80  0.633838   0.588256  0.554326  0.570787\n",
      "17       0.85  0.623838   0.562551  0.526468  0.543912\n",
      "18       0.90  0.618788   0.533405  0.508887  0.520858\n",
      "19       0.95  0.624313   0.526183  0.502268  0.513947\n",
      "20       1.00  0.627437   0.313727  0.499980  0.385537\n",
      "Time:  572.4592840671539\n"
     ]
    }
   ],
   "source": [
    "# time 570s\n",
    "def train():\n",
    "    start = time()\n",
    "    warnings.simplefilter(\"ignore\")\n",
    "    \n",
    "    cos_tfidf,cos_vect, cos_tfidf_vect, cos_all = ([] for i in range(4))\n",
    "    y_actual = []\n",
    "\n",
    "    for i in range(size_1):\n",
    "        question1 = df_q1.iloc[i].lower()\n",
    "        question2 = df_q2.iloc[i].lower()\n",
    "        is_dup = df_is_duplicate.iloc[i]\n",
    "        \n",
    "        # feature tfidf matrix\n",
    "        tfidf_feat = tfidf_features(question1, question2)\n",
    "        q1_tfidf = tfidf_feat[0,:]\n",
    "        q2_tfidf = tfidf_feat[1,:]\n",
    "\n",
    "        # feature word2vect matrix\n",
    "        q1_vect = word2vector_features(question1, model=model, num_features=300, vocab=vocab)\n",
    "        q2_vect = word2vector_features(question2, model=model, num_features=300, vocab=vocab)\n",
    "\n",
    "        # concatenate the above two feature\n",
    "        q1_tfidf_vect = np.concatenate((q1_tfidf,q1_vect.transpose()),axis=0)\n",
    "        q2_tfidf_vect = np.concatenate((q2_tfidf,q1_vect.transpose()),axis=0)\n",
    "        \n",
    "        # concatenate the above two feature + interrogative\n",
    "        q1_inter, q2_inter = interrogative_features(question1, question2)\n",
    "        q1_all = np.concatenate((q1_tfidf_vect,q1_inter),axis=0)\n",
    "        q2_all = np.concatenate((q2_tfidf_vect,q2_inter),axis=0)\n",
    "\n",
    "    \n",
    "        \n",
    "        cos_tfidf.append(cosine_similarity(q1_tfidf,q2_tfidf))\n",
    "        cos_vect.append(cosine_similarity(q1_vect,q2_vect))\n",
    "        cos_tfidf_vect.append(cosine_similarity(q1_tfidf_vect,q2_tfidf_vect))\n",
    "        cos_all.append(cosine_similarity(q1_all,q2_all))\n",
    "        \n",
    "        y_actual.append(is_dup)\n",
    "     \n",
    "    #----------------------------------------\n",
    "    thresholds = list(np.arange(0, 1.01, 0.05))\n",
    "    feat_opts = ['tf-idf', 'word2vector', 'tf-idf+word2vector','tf_word2vec_inter']\n",
    "    for feat_opt in feat_opts:\n",
    "        \n",
    "        y_predict,accuracy, precision, recall, fscore = ([] for i in range(5))\n",
    "        \n",
    "        for threshold in thresholds:\n",
    "            if feat_opt == 'tf-idf':\n",
    "                y_predict = [1 if val > threshold else 0 for val in cos_tfidf]\n",
    "            elif feat_opt == 'word2vector':\n",
    "                y_predict = [1 if val > threshold else 0 for val in cos_vect]\n",
    "            elif feat_opt == 'tf-idf+word2vector':\n",
    "                y_predict = [1 if val > threshold else 0 for val in cos_tfidf_vect]  \n",
    "            else:\n",
    "                y_predict = [1 if val > threshold else 0 for val in cos_all]\n",
    "                \n",
    "            \n",
    "            accuracy.append(accuracy_score(y_actual, y_predict))\n",
    "            precision_temp,recall_temp,fscore_beta,support=score(y_actual, y_predict,average='macro')\n",
    "            fscore_temp =  (2 * precision_temp * recall_temp) / (precision_temp + recall_temp)\n",
    "            precision.append(precision_temp)\n",
    "            recall.append(recall_temp)\n",
    "            fscore.append(fscore_temp)\n",
    "        \n",
    "\n",
    "        # plot thresholds vs accuracy\n",
    "        fig, ax = plt.subplots()\n",
    "        ax.plot(thresholds, accuracy)\n",
    "        plt.xlabel('Threshold')\n",
    "        plt.ylabel('Accuracy')\n",
    "        plt.title('Thresholds vs accuracy with ' + feat_opt)\n",
    "        plt.show()\n",
    "        # save figure to given folder\n",
    "        fig.savefig(os.getcwd() + '/figures/' + 'Thresholds vs accuracy with ' + feat_opt+'_'+ str(row), dpi=500)\n",
    "\n",
    "        final_res = {'threshold':thresholds, 'Accuracy':accuracy, 'Precision':precision,'Recall':recall,'F1-score':fscore}\n",
    "        final_table = pd.DataFrame(final_res, columns=['threshold', 'Accuracy', 'Precision','Recall','F1-score'])\n",
    "        print(final_table)\n",
    "\n",
    "        # save final_table to csv\n",
    "        final_table.to_csv(os.getcwd() + '/results/' + 'final results with ' + feat_opt + '_'+str(row)+ '.csv')\n",
    "\n",
    "    print(\"Time: \",time()-start)\n",
    "    \n",
    "\n",
    "train()"
   ]
  },
  {
   "cell_type": "markdown",
   "metadata": {},
   "source": []
  },
  {
   "cell_type": "markdown",
   "metadata": {},
   "source": [
    "### Test model (time: 120s)"
   ]
  },
  {
   "cell_type": "code",
   "execution_count": 215,
   "metadata": {},
   "outputs": [
    {
     "name": "stdout",
     "output_type": "stream",
     "text": [
      "Test set size:  19999\n",
      "   threshold  Accuracy  Precision    Recall  F1-score\n",
      "0       0.30  0.671384   0.672525  0.684506  0.678463\n",
      "1       0.87  0.649132   0.625806  0.626824  0.626315\n",
      "2       0.50  0.671684   0.655945  0.662956  0.659432\n",
      "3       0.70  0.651983   0.624534  0.620560  0.622541\n",
      "Time:  120.0303008556366\n"
     ]
    }
   ],
   "source": [
    "# time 120s\n",
    "def test():\n",
    "    start = time()\n",
    "    warnings.simplefilter(\"ignore\")\n",
    "    \n",
    "        \n",
    "    size_2 = row-1 - size_1   # test data size\n",
    "    \n",
    "    y_test_actual,cos_tfidf_test,cos_vect_test, cos_tfidf_vect_test, cos_all_test = ([] for i in range(5))\n",
    "    print(\"Test set size: \", size_2)\n",
    "    for i in range(size_2):\n",
    "        question1_test = df_q1_test.iloc[i].lower()\n",
    "        question2_test = df_q2_test.iloc[i].lower()\n",
    "        is_dup_test = df_is_duplicate_test.iloc[i]\n",
    "\n",
    "        # feature tfidf matrix\n",
    "        tfidf_feat_test = tfidf_features(question1_test, question2_test)\n",
    "        q1_tfidf_test = tfidf_feat_test[0,:]\n",
    "        q2_tfidf_test = tfidf_feat_test[1,:]\n",
    "\n",
    "        # feature word2vect matrix\n",
    "        q1_vect_test = word2vector_features(question1_test, model=model, num_features=300, vocab=vocab)\n",
    "        q2_vect_test = word2vector_features(question2_test, model=model, num_features=300, vocab=vocab)\n",
    "\n",
    "        # concatenate the above two feature\n",
    "        q1_tfidf_vect_test = np.concatenate((q1_tfidf_test,q1_vect_test.transpose()),axis=0)\n",
    "        q2_tfidf_vect_test = np.concatenate((q2_tfidf_test,q1_vect_test.transpose()),axis=0)\n",
    "        \n",
    "        # concatenate the above two feature + interrogative\n",
    "        q1_inter_test, q2_inter_test = interrogative_features(question1_test, question2_test)\n",
    "        q1_all_test = np.concatenate((q1_tfidf_vect_test,q1_inter_test),axis=0)\n",
    "        q2_all_test = np.concatenate((q2_tfidf_vect_test,q2_inter_test),axis=0)\n",
    "\n",
    "        # cosine similarity \n",
    "        cos_tfidf_test.append(cosine_similarity(q1_tfidf_test,q2_tfidf_test))\n",
    "        cos_vect_test.append(cosine_similarity(q1_vect_test,q2_vect_test))\n",
    "        cos_tfidf_vect_test.append(cosine_similarity(q1_tfidf_vect_test,q2_tfidf_vect_test))\n",
    "        cos_all_test.append(cosine_similarity(q1_all_test,q2_all_test))\n",
    "        \n",
    "        y_test_actual.append(is_dup_test)\n",
    "    \n",
    "    #---------------------------------------\n",
    "    # threshold from models\n",
    "    thresholds = [0.3,0.87,0.5,0.7]\n",
    "    \n",
    "    feat_opts = ['tf-idf', 'word2vector', 'tf-idf+word2vector','tf_word2vec_inter']\n",
    "    \n",
    "    y_predict,accuracy, precision, recall, fscore = ([] for i in range(5))    \n",
    "    for feat_opt in feat_opts:   \n",
    "        \n",
    "        if feat_opt == 'tf-idf':\n",
    "            threshold = thresholds[0]\n",
    "            y_predict = [1 if val > threshold else 0 for val in cos_tfidf_test]\n",
    "        elif feat_opt == 'word2vector':\n",
    "            threshold = thresholds[1]\n",
    "            y_predict = [1 if val > threshold else 0 for val in cos_vect_test]\n",
    "        elif feat_opt == 'tf-idf+word2vector':\n",
    "            threshold = thresholds[2]\n",
    "            y_predict = [1 if val > threshold else 0 for val in cos_tfidf_vect_test] \n",
    "        else:\n",
    "            threshold = thresholds[3]\n",
    "            y_predict = [1 if val > threshold else 0 for val in cos_all_test] \n",
    "                                   \n",
    "        \n",
    "        accuracy.append(accuracy_score(y_test_actual, y_predict))\n",
    "        precision_temp,recall_temp,fscore_beta,support=score(y_test_actual, y_predict,average='macro')\n",
    "        fscore_temp =  (2 * precision_temp * recall_temp) / (precision_temp + recall_temp)\n",
    "        precision.append(precision_temp)\n",
    "        recall.append(recall_temp)\n",
    "        fscore.append(fscore_temp)\n",
    "\n",
    "    final_res = {'threshold':thresholds, 'Accuracy':accuracy, 'Precision':precision,'Recall':recall,'F1-score':fscore}\n",
    "    final_table = pd.DataFrame(final_res, columns=['threshold', 'Accuracy', 'Precision','Recall','F1-score'])\n",
    "    print(final_table)\n",
    "\n",
    "    # save final_table to csv\n",
    "    final_table.to_csv(os.getcwd() + '/results/' + 'TEST_final results with ' + feat_opt + '_'+str(row)+ '.csv')\n",
    "\n",
    "    print(\"Time: \",time()-start)\n",
    "    \n",
    "test()"
   ]
  },
  {
   "cell_type": "code",
   "execution_count": null,
   "metadata": {},
   "outputs": [],
   "source": []
  },
  {
   "cell_type": "code",
   "execution_count": null,
   "metadata": {},
   "outputs": [],
   "source": []
  }
 ],
 "metadata": {
  "kernelspec": {
   "display_name": "Python 3",
   "language": "python",
   "name": "python3"
  },
  "language_info": {
   "codemirror_mode": {
    "name": "ipython",
    "version": 3
   },
   "file_extension": ".py",
   "mimetype": "text/x-python",
   "name": "python",
   "nbconvert_exporter": "python",
   "pygments_lexer": "ipython3",
   "version": "3.7.6"
  }
 },
 "nbformat": 4,
 "nbformat_minor": 4
}
